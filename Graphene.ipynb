{
 "cells": [
  {
   "cell_type": "code",
   "execution_count": 77,
   "metadata": {
    "scrolled": true
   },
   "outputs": [
    {
     "name": "stderr",
     "output_type": "stream",
     "text": [
      "/home/yzhumagulov/anaconda3/lib/python3.7/site-packages/mkl_fft/_numpy_fft.py:244: FutureWarning: Using a non-tuple sequence for multidimensional indexing is deprecated; use `arr[tuple(seq)]` instead of `arr[seq]`. In the future this will be interpreted as an array index, `arr[np.array(seq)]`, which will result either in an error or a different result.\n",
      "  output = mkl_fft.ifft(a, n, axis)\n"
     ]
    }
   ],
   "source": [
    "# Creates: graphene_eps.png\n",
    "import matplotlib.pyplot as plt\n",
    "import numpy as np\n",
    "from ase import Atoms\n",
    "from ase.units import Hartree, Bohr\n",
    "from ase.utils import seterr\n",
    "from itertools import product\n",
    "from tqdm import tqdm\n",
    "\n",
    "from gpaw import GPAW, FermiDirac\n",
    "from gpaw.wavefunctions.pw import PW\n",
    "from gpaw.response.df import DielectricFunction\n",
    "from gpaw.mpi import world\n",
    "from gpaw.bztools import find_high_symmetry_monkhorst_pack\n",
    "from gpaw.wavefunctions.pw import PWDescriptor\n",
    "from gpaw.kpt_descriptor import KPointDescriptor\n",
    "\n",
    "a = 2.5\n",
    "c = 15\n",
    "PW_cut=800\n",
    "nbands=8\n",
    "atoms = Atoms(symbols='C2', positions=[(0.5 * a, -np.sqrt(3) / 6 * a, 0.5*c),\n",
    "                                    (0.5 * a, np.sqrt(3) / 6 * a, 0.5*c)],\n",
    "           cell=[(0.5 * a, -0.5 * 3**0.5 * a, 0),\n",
    "                 (0.5 * a, 0.5 * 3**0.5 * a, 0),\n",
    "                 (0.0, 0.0, c )], pbc=True)\n",
    "\n",
    "calc = GPAW(mode=PW(PW_cut),xc='PBE',\n",
    "            kpts={'size': (8, 8, 1), 'gamma': True},\n",
    "            setups='sg15',\n",
    "            nbands=2*nbands,\n",
    "            occupations=FermiDirac(0.001),\n",
    "            convergence={'bands': nbands},\n",
    "            txt='calc.txt')\n",
    "\n",
    "atoms.set_calculator(calc)\n",
    "atoms.get_potential_energy()\n",
    "calc.write('gs.gpw')"
   ]
  },
  {
   "cell_type": "code",
   "execution_count": 78,
   "metadata": {},
   "outputs": [],
   "source": [
    "import numba\n",
    "\n",
    "@numba.jit(nopython=True,parallel=True,fastmath=True)\n",
    "def operator_matrix_periodic(matrix,operator,wf_conj,wf):\n",
    "    \"\"\"perform integration of periodic part of Kohn Sham wavefunction\"\"\"\n",
    "    NK=matrix.shape[0]\n",
    "    nbands=matrix.shape[1]\n",
    "    for k in numba.prange(NK):\n",
    "        for n1 in range(nbands):\n",
    "            for n2 in range(nbands):\n",
    "                matrix[k,n1,n2]=np.sum(operator*wf_conj[n1,k]*wf[n2,k])\n",
    "    return matrix\n",
    "\n",
    "@numba.jit(nopython=True,parallel=True,fastmath=True)\n",
    "def Fock_matrix(matrix,V,M_conj,M,occupation,ibz_map):\n",
    "    \"\"\"perform integration of periodic part of Kohn Sham wavefunction\"\"\"\n",
    "    nbands=matrix.shape[1]\n",
    "    NK=V.shape[0]\n",
    "    NKF=V.shape[1]\n",
    "    for k in numba.prange(NK):\n",
    "        for n1 in range(nbands):\n",
    "            for q in range(NKF):\n",
    "                for m in range(nbands):\n",
    "                    matrix[k,n1,n1]+=np.sum(occupation[ibz_map[q],m]*V[k,q]*M_conj[m,n1,ibz_map[q],k]*M[m,n1,ibz_map[q],k])\n",
    "    matrix/=NKF\n",
    "    return matrix"
   ]
  },
  {
   "cell_type": "code",
   "execution_count": 108,
   "metadata": {},
   "outputs": [],
   "source": [
    "class TDHF(object):\n",
    "    \"\"\"\n",
    "    Time-dependent Hartree-Fock:\n",
    "    \n",
    "        calc: GPAW calculator (symmetry='off' is preferable)\n",
    "        nbands (int): number of unoccupied bands in calculation\n",
    "        \n",
    "    \"\"\"\n",
    "    \n",
    "    def __init__(self,calc,nbands=None):\n",
    "        self.calc=calc # GPAW calculator object\n",
    "        self.K=calc.get_ibz_k_points() # reduced Brillioun zone\n",
    "        self.NK=self.K.shape[0] \n",
    "        \n",
    "        self.wk=calc.get_k_point_weights() # weight of reduced Brillioun zone\n",
    "        \n",
    "        self.EK=[calc.get_eigenvalues(k) for k in range(self.NK)] # bands energy\n",
    "        self.EK=np.array(self.EK)/Hartree\n",
    "        \n",
    "        self.nvalence=int(calc.occupations.nvalence/2) #number of valence bands\n",
    "        if nbands is None:\n",
    "            self.nbands=2*self.nvalence\n",
    "        else:\n",
    "            self.nbands=nbands+self.nvalence\n",
    "        \n",
    "        self.shape=tuple(calc.get_number_of_grid_points()) # shape of real space grid\n",
    "        self.density=calc.get_pseudo_density()*Bohr**3 # density at zero time\n",
    "        \n",
    "        \n",
    "        # array of u_nk (periodic part of Kohn-Sham orbitals,only reduced Brillion zone)\n",
    "        self.unk=np.zeros((self.nbands,self.NK,)+self.shape,dtype=np.complex) \n",
    "        for k in range(self.NK):\n",
    "            kpt = calc.wfs.kpt_u[k]\n",
    "            for n in range(self.nbands):\n",
    "                psit_G = kpt.psit_nG[n]\n",
    "                psit_R = calc.wfs.pd.ifft(psit_G, kpt.q)\n",
    "                self.unk[n,k]=psit_R \n",
    "                \n",
    "        self.icell=2.0 * np.pi * calc.wfs.gd.icell_cv # inverse cell \n",
    "        self.cell = calc.wfs.gd.cell_cv # cell\n",
    "        self.z=calc.wfs.gd.get_grid_point_coordinates()[2]-self.cell[2,2]/2.\n",
    "        self.volume = np.abs(np.linalg.det(calc.wfs.gd.cell_cv)) # volume of cell\n",
    "        self.norm=calc.wfs.gd.dv # \n",
    "        self.Fermi=self.calc.get_fermi_level()/Hartree #Fermi level\n",
    "        \n",
    "        #desriptors at q=gamma for Hartree\n",
    "        self.kdH=KPointDescriptor([[0,0,0]]) \n",
    "        self.pdH=PWDescriptor(ecut=calc.wfs.pd.ecut,gd=calc.wfs.gd,kd=self.kdH,dtype=complex)\n",
    "        \n",
    "        #desriptors at q=gamma for Fock\n",
    "        self.kdF=KPointDescriptor([[0,0,0]]) \n",
    "        self.pdF=PWDescriptor(ecut=calc.wfs.pd.ecut/4.,gd=calc.wfs.gd,kd=self.kdF,dtype=complex)\n",
    "        \n",
    "        #Fermi-Dirac temperature\n",
    "        self.temperature=calc.occupations.width\n",
    "        \n",
    "        #calculate pair-density matrices\n",
    "        self.M=np.zeros((self.nbands,self.nbands,self.NK,self.NK,self.pdF.get_reciprocal_vectors().shape[0]),dtype=np.complex)\n",
    "        indexes=[(n,k) for n,k in product(range(self.nbands),range(self.NK))]\n",
    "        for i1 in range(len(indexes)):\n",
    "            n1,k1=indexes[i1]\n",
    "            for i2 in range(i1,len(indexes)):\n",
    "                n2,k2=indexes[i1]\n",
    "                self.M[n1,n2,k1,k2]=self.pdF.fft(self.unk[n1,k1].conj()*self.unk[n2,k2])\n",
    "                self.M[n2,n1,k2,k1]=self.M[n1,n2,k1,k2].conj()\n",
    "        self.M*=calc.wfs.gd.dv\n",
    "        \n",
    "    def plane_wave(self,k):\n",
    "        \"\"\" \n",
    "        return plane wave defined on real space grid:\n",
    "        if k is integer wave vector defined as k-th k-point of reduced Brillioun zone\n",
    "        if k is array wave vector defined as np.dot(k,self.icell)\n",
    "        \"\"\" \n",
    "        if type(k)==int:\n",
    "            return self.calc.wfs.gd.plane_wave(self.K[k])\n",
    "        else:\n",
    "            return self.calc.wfs.gd.plane_wave(k)\n",
    "    \n",
    "    \n",
    "    def get_dipole_matrix(self):\n",
    "        \"\"\" \n",
    "        return two-dimensional numpy complex array of dipole matrix elements(\n",
    "        \"\"\" \n",
    "        \n",
    "        dipole=np.zeros((self.NK,self.nbands,self.nbands),dtype=np.complex)\n",
    "        dipole=operator_matrix_periodic(dipole,self.z,self.unk.conj(),self.unk)*self.norm\n",
    "        dipole=np.round(dipole,8)\n",
    "        return dipole\n",
    "    \n",
    "    def get_density(self,occupation):\n",
    "        \"\"\" \n",
    "        return numpy array of electron density in real space at each k-point of full Brillioun zone\n",
    "        ocuupation: numpy array N_band X N_kpoint (reduced Brillioun zone) of occupation of Kohn-Sham orbitals\n",
    "        \"\"\" \n",
    "        if occupation is None:\n",
    "            return self.density\n",
    "        else:\n",
    "            density=np.zeros(self.shape,dtype=np.float)\n",
    "            for k in range(self.NK):\n",
    "                for n in range(self.nbands):\n",
    "                    density+=occupation[n,k]*self.unk[n,k]*self.wk[k]\n",
    "            return density\n",
    "    \n",
    "    def get_Hartree_potential(self,occupation):\n",
    "        \"\"\" \n",
    "        return numpy array of Hartree potential in real space at each k-point of full Brillioun zone\n",
    "        ocuupation: numpy array N_band X N_kpoint (reduced Brillioun zone) of occupation of Kohn-Sham orbitals\n",
    "        \"\"\" \n",
    "        density=self.get_density(occupation)\n",
    "        VH=np.zeros(self.shape)\n",
    "        G=self.pdH.get_reciprocal_vectors()\n",
    "        G2=np.linalg.norm(G,axis=1)**2;G2[G2==0]=np.inf\n",
    "        nG=self.pdH.fft(density)\n",
    "        return 4*np.pi*self.pdH.ifft(nG/G2)\n",
    "    \n",
    "    def get_coloumb_potential(self,q):\n",
    "        G=self.pdF.get_reciprocal_vectors()+np.dot(q,self.icell)\n",
    "        G2=np.linalg.norm(G,axis=1)**2;G2[G2==0]=np.inf\n",
    "        return 4*np.pi/G2  \n",
    "    \n",
    "    def get_Hartree_matrix(self,occupation=None):\n",
    "        VH=self.get_Hartree_potential(occupation)\n",
    "        VH_matrix=np.zeros((self.NK,self.nbands,self.nbands),dtype=np.complex)\n",
    "        VH_matrix=operator_matrix_periodic(dipole,VH,self.unk.conj(),self.unk)*self.norm\n",
    "        VH_matrix=np.round(VH_matrix,8)\n",
    "        return VH_matrix\n",
    "    \n",
    "    def get_Fock_matrix(self,occupation=None):\n",
    "        if occupation is None:\n",
    "            occupation=np.zeros((self.NK,self.nbands))\n",
    "            for k in range(self.NK):\n",
    "                for n in range(self.nbands):\n",
    "                    occupation[k,n]=1/(1+np.exp(self.EK[k,n]/self.temperature))\n",
    "       \n",
    "        K=self.calc.get_bz_k_points();NK=K.shape[0]  \n",
    "        NG=self.pdF.get_reciprocal_vectors().shape[0]\n",
    "        V=np.zeros((self.NK,NK,NG))\n",
    "        for k in range(self.NK):\n",
    "            for q in range(NK):\n",
    "                V[k,q]=self.get_coloumb_potential(K[q]-self.K[k])\n",
    "        VF_matrix=np.zeros((self.NK,self.nbands,self.nbands),dtype=np.complex)        \n",
    "        VF_matrix=Fock_matrix(VF_matrix,V,self.M.conj(),self.M,occupation,self.calc.get_bz_to_ibz_map())\n",
    "        return VF_matrix\n",
    "    \n",
    "    def get_LDA_exchange_matrix(self,occupation=None):\n",
    "        density=self.get_density(occupation)\n",
    "        exchange=(3/np.pi*density)**(1./3.)\n",
    "        LDAx_matrix=np.zeros((self.NK,self.nbands,self.nbands),dtype=np.complex)\n",
    "        LDAx_matrix=operator_matrix_periodic(LDAx_matrix,exchange,self.unk.conj(),self.unk)*self.norm\n",
    "        LDAx_matrix=np.round(LDAx_matrix,8)\n",
    "        return LDAx_matrix\n",
    "    \n",
    "    "
   ]
  },
  {
   "cell_type": "code",
   "execution_count": 109,
   "metadata": {},
   "outputs": [],
   "source": [
    "TD=TDHF(calc)"
   ]
  },
  {
   "cell_type": "code",
   "execution_count": 110,
   "metadata": {},
   "outputs": [],
   "source": [
    "dipole=TD.get_dipole_matrix()\n",
    "plt.imshow(dipole[0].real)\n",
    "plt.colorbar()"
   ]
  },
  {
   "cell_type": "code",
   "execution_count": 111,
   "metadata": {},
   "outputs": [
    {
     "data": {
      "text/plain": [
       "<matplotlib.colorbar.Colorbar at 0x7f9673ac48d0>"
      ]
     },
     "execution_count": 111,
     "metadata": {},
     "output_type": "execute_result"
    },
    {
     "data": {
      "image/png": "[encoded data removed]",
      "text/plain": [
       "<Figure size 432x288 with 2 Axes>"
      ]
     },
     "metadata": {
      "needs_background": "light"
     },
     "output_type": "display_data"
    }
   ],
   "source": []
  },
  {
   "cell_type": "code",
   "execution_count": 112,
   "metadata": {},
   "outputs": [],
   "source": [
    "VH_matrix=TD.get_Hartree_matrix()\n",
    "plt.imshow(VH_matrix[0].real)\n",
    "plt.colorbar()"
   ]
  },
  {
   "cell_type": "code",
   "execution_count": 113,
   "metadata": {},
   "outputs": [
    {
     "data": {
      "text/plain": [
       "<matplotlib.colorbar.Colorbar at 0x7f967bc84e48>"
      ]
     },
     "execution_count": 113,
     "metadata": {},
     "output_type": "execute_result"
    },
    {
     "data": {
      "image/png": "[encoded data removed]",
      "text/plain": [
       "<Figure size 432x288 with 2 Axes>"
      ]
     },
     "metadata": {
      "needs_background": "light"
     },
     "output_type": "display_data"
    }
   ],
   "source": []
  },
  {
   "cell_type": "code",
   "execution_count": 114,
   "metadata": {},
   "outputs": [],
   "source": []
  },
  {
   "cell_type": "code",
   "execution_count": 115,
   "metadata": {},
   "outputs": [
    {
     "data": {
      "text/plain": [
       "<matplotlib.colorbar.Colorbar at 0x7f967bc145f8>"
      ]
     },
     "execution_count": 115,
     "metadata": {},
     "output_type": "execute_result"
    },
    {
     "data": {
      "image/png": "[encoded data removed]",
      "text/plain": [
       "<Figure size 432x288 with 2 Axes>"
      ]
     },
     "metadata": {
      "needs_background": "light"
     },
     "output_type": "display_data"
    }
   ],
   "source": []
  },
  {
   "cell_type": "code",
   "execution_count": 116,
   "metadata": {},
   "outputs": [],
   "source": []
  },
  {
   "cell_type": "code",
   "execution_count": 117,
   "metadata": {},
   "outputs": [
    {
     "data": {
      "text/plain": [
       "<matplotlib.colorbar.Colorbar at 0x7f967bb9ab38>"
      ]
     },
     "execution_count": 117,
     "metadata": {},
     "output_type": "execute_result"
    },
    {
     "data": {
      "image/png": "[encoded data removed]",
      "text/plain": [
       "<Figure size 432x288 with 2 Axes>"
      ]
     },
     "metadata": {
      "needs_background": "light"
     },
     "output_type": "display_data"
    }
   ],
   "source": []
  },
  {
   "cell_type": "code",
   "execution_count": null,
   "metadata": {},
   "outputs": [],
   "source": []
  },
  {
   "cell_type": "code",
   "execution_count": null,
   "metadata": {},
   "outputs": [],
   "source": []
  }
 ],
 "metadata": {
  "kernelspec": {
   "display_name": "Python 3",
   "language": "python",
   "name": "python3"
  },
  "language_info": {
   "codemirror_mode": {
    "name": "ipython",
    "version": 3
   },
   "file_extension": ".py",
   "mimetype": "text/x-python",
   "name": "python",
   "nbconvert_exporter": "python",
   "pygments_lexer": "ipython3",
   "version": "3.7.2"
  }
 },
 "nbformat": 4,
 "nbformat_minor": 2
}
