{
 "cells": [
  {
   "cell_type": "markdown",
   "metadata": {},
   "source": [
    "# Tutorial"
   ]
  },
  {
   "cell_type": "markdown",
   "metadata": {},
   "source": [
    "<b>Warning: it is necessary to use <u>setups='sg15'</u> in GPAW</b> (ONCV pseudopotentials)"
   ]
  },
  {
   "cell_type": "code",
   "execution_count": 17,
   "metadata": {},
   "outputs": [
    {
     "name": "stderr",
     "output_type": "stream",
     "text": [
      "/home/yzhumagulov/anaconda3/lib/python3.7/site-packages/mkl_fft/_numpy_fft.py:244: FutureWarning: Using a non-tuple sequence for multidimensional indexing is deprecated; use `arr[tuple(seq)]` instead of `arr[seq]`. In the future this will be interpreted as an array index, `arr[np.array(seq)]`, which will result either in an error or a different result.\n",
      "  output = mkl_fft.ifft(a, n, axis)\n"
     ]
    }
   ],
   "source": [
    "from gpaw import GPAW, FermiDirac\n",
    "from gpaw.wavefunctions.pw import PW\n",
    "from ase.io import read\n",
    "from TDDFT import TDDFT\n",
    "import numpy as np\n",
    "import matplotlib.pyplot as plt\n",
    "%matplotlib inline\n",
    "\n",
    "c = 20\n",
    "PW_cut=400\n",
    "nbands=40\n",
    "atoms = read('hBN.cif')\n",
    "atoms.cell[2,2]=c\n",
    "atoms.center()\n",
    "\n",
    "calc = GPAW(mode=PW(PW_cut),xc='PBE',\n",
    "            kpts={'size': (4, 4, 1), 'gamma': True},\n",
    "            setups='sg15',nbands=nbands*2,\n",
    "            occupations=FermiDirac(0.0001),\n",
    "            convergence={'bands':nbands},\n",
    "            txt='calc.txt')\n",
    "\n",
    "atoms.set_calculator(calc)\n",
    "atoms.get_potential_energy()\n",
    "calc.write('gs.gpw')"
   ]
  },
  {
   "cell_type": "markdown",
   "metadata": {},
   "source": [
    "# Initialization "
   ]
  },
  {
   "cell_type": "code",
   "execution_count": 18,
   "metadata": {},
   "outputs": [
    {
     "name": "stderr",
     "output_type": "stream",
     "text": [
      "100%|██████████| 10/10 [02:30<00:00, 14.37s/it]\n"
     ]
    }
   ],
   "source": [
    "tddft=TDDFT(calc,nbands)"
   ]
  },
  {
   "cell_type": "code",
   "execution_count": 19,
   "metadata": {},
   "outputs": [],
   "source": [
    "import pickle\n",
    "with open('save', 'wb') as f:\n",
    "    pickle.dump(tddft,f)"
   ]
  },
  {
   "cell_type": "markdown",
   "metadata": {},
   "source": [
    "# Calculation of the dipole matrix\n",
    "Сalculation of the dipole matrix occurs according to the following equation\n",
    "$$ d_{nm}(k)=\\int_\\Omega dr \\; u_{kn}^{*}(r) \\; r \\; u_{km}(r)$$\n",
    "where $u_{kn}(r)$ - periodic part of Kohn-Sham wavefunction which is stored in <b>TDDFT.ukn</b>\n",
    "\n",
    "$r$ - coordinate inside the elementary cell which is stored in <b>TDDFT.r</b>\n",
    "\n",
    "$\\Omega$ - volume of the elementary cell which is stored in <b>TDDFT.volume</b>"
   ]
  },
  {
   "cell_type": "code",
   "execution_count": 20,
   "metadata": {},
   "outputs": [
    {
     "data": {
      "text/plain": [
       "<matplotlib.colorbar.Colorbar at 0x7fd1cd4ece80>"
      ]
     },
     "execution_count": 20,
     "metadata": {},
     "output_type": "execute_result"
    },
    {
     "data": {
      "image/png": "[encoded data removed]",
      "text/plain": [
       "<Figure size 432x288 with 2 Axes>"
      ]
     },
     "metadata": {
      "needs_background": "light"
     },
     "output_type": "display_data"
    }
   ],
   "source": [
    "direction=[0,0,1]\n",
    "dipole=tddft.get_dipole_matrix(direction)\n",
    "plt.title(\"Dipole matrix at K=0\")\n",
    "plt.imshow(np.abs(dipole[0]))\n",
    "plt.colorbar()"
   ]
  },
  {
   "cell_type": "markdown",
   "metadata": {},
   "source": [
    "# Calculation of the Hartree matrix\n",
    "Calculation of the Hartree matrix occurs according to following equation\n",
    "$$ V^{H}_{nm}(k)=\\int_\\Omega dr \\; u_{kn}^{*}(r) \\; V_H(r) \\; u_{km}(r)$$\n",
    "$V_H(r)$ - Hartree potential which is obtained by solving Poisson equation using folowing equations:\n",
    "$$n(G)=FFT(n(r)) \\Rightarrow V_H(G)=-4\\pi\\frac{n(G)}{|G|^2} \\Rightarrow V_H(r)=IFFT(V_H(G))$$\n",
    "$$n(r)=2 \\sum_{k}^{IBZ} w(k)\\sum_n^{N_b}f_n\\sum_m^{N_b} \\left|c_{nm}(k)u_{km}(r)\\right|^2$$\n",
    "where $IBZ$ -irreducible Brillioun zone\n",
    "\n",
    "$w(k)$ - weight of k-points in irreducible Brillioun zone which is stored in <b>TDDFT.w</b>\n",
    "\n",
    "$f_n$ - occupation of Kohn-Sham orbitals which is stored in <b>TDDFT.f</b>\n",
    "\n",
    "$c_{nm}(k)$ - wavefunction in second-quantization basis"
   ]
  },
  {
   "cell_type": "code",
   "execution_count": 21,
   "metadata": {},
   "outputs": [
    {
     "data": {
      "text/plain": [
       "<matplotlib.colorbar.Colorbar at 0x7fd1ae5f1ef0>"
      ]
     },
     "execution_count": 21,
     "metadata": {},
     "output_type": "execute_result"
    },
    {
     "data": {
      "image/png": "[encoded data removed]",
      "text/plain": [
       "<Figure size 432x288 with 2 Axes>"
      ]
     },
     "metadata": {
      "needs_background": "light"
     },
     "output_type": "display_data"
    }
   ],
   "source": [
    "VH_matrix=tddft.get_Hartree_matrix()\n",
    "plt.title(\"Hartree matrix at K=0\")\n",
    "plt.imshow(VH_matrix[0].real)\n",
    "plt.colorbar()"
   ]
  },
  {
   "cell_type": "markdown",
   "metadata": {},
   "source": [
    "# Calculation of the Fock matrix\n",
    "Calculation of the Fock matrix occurs according to following equation\n",
    "$$ V^{F}_{nm}(k)=-\\sum^{occ}_l \\sum_{q}^{BZ} \\sum_{G} M^{*}_{ln}(k,q,G)M_{l,m}(k,q,G)v(q+G)$$\n",
    "where $M_{n,m}(k,q,G)$ - pair-density which is stored in <b>TDDFT.M</b>\n",
    "$$M_{n,m}(k,q,G)=IFFT\\left(u_{k+q,n}^{*}(r)u_{k,n}(r)\\right)$$\n",
    "and $v(q+G)$ - Coloumb potential\n",
    "$$v(q+G)=\\frac{4\\pi}{\\left|q+G\\right|^{2}}$$"
   ]
  },
  {
   "cell_type": "code",
   "execution_count": 22,
   "metadata": {},
   "outputs": [
    {
     "data": {
      "text/plain": [
       "<matplotlib.colorbar.Colorbar at 0x7fd1af7c0390>"
      ]
     },
     "execution_count": 22,
     "metadata": {},
     "output_type": "execute_result"
    },
    {
     "data": {
      "image/png": "[encoded data removed]",
      "text/plain": [
       "<Figure size 432x288 with 2 Axes>"
      ]
     },
     "metadata": {
      "needs_background": "light"
     },
     "output_type": "display_data"
    }
   ],
   "source": [
    "VF_matrix=tddft.get_Fock_matrix()\n",
    "plt.imshow(VF_matrix[0].real)\n",
    "plt.colorbar()"
   ]
  },
  {
   "cell_type": "markdown",
   "metadata": {},
   "source": [
    "# Calculation of the LDA exchange matrix\n",
    "Calculation of the LDA exchange matrix matrix occurs according to following equation\n",
    "$$ V^{LDAx}_{nm}(k)=\\int_\\Omega dr \\; u_{kn}^{*}(r) \\; \\left(-\\frac{3n(r)}{\\pi}\\right)^{1/3} \\; u_{km}(r)$$"
   ]
  },
  {
   "cell_type": "code",
   "execution_count": 23,
   "metadata": {},
   "outputs": [
    {
     "data": {
      "text/plain": [
       "<matplotlib.colorbar.Colorbar at 0x7fd1ae410ef0>"
      ]
     },
     "execution_count": 23,
     "metadata": {},
     "output_type": "execute_result"
    },
    {
     "data": {
      "image/png": "[encoded data removed]",
      "text/plain": [
       "<Figure size 432x288 with 2 Axes>"
      ]
     },
     "metadata": {
      "needs_background": "light"
     },
     "output_type": "display_data"
    }
   ],
   "source": [
    "LDAx_matrix=tddft.get_LDA_exchange_matrix()\n",
    "plt.imshow(LDAx_matrix[0].real)\n",
    "plt.colorbar()"
   ]
  },
  {
   "cell_type": "markdown",
   "metadata": {},
   "source": [
    "# Calculation of the LDA correlation matrix\n",
    "Calculation of the LDA correlation matrix matrix occurs according to following equation\n",
    "$$ V^{LDAx}_{nm}(k)=\\int_\\Omega dr \\; u_{kn}^{*}(r) \\; f_c(n(r)) \\; u_{km}(r)$$\n",
    "$fc(n(r))$ parametrization taken from THE JOURNAL OF CHEMICAL PHYSICS 145, 157101 (2016)"
   ]
  },
  {
   "cell_type": "code",
   "execution_count": 24,
   "metadata": {},
   "outputs": [
    {
     "data": {
      "text/plain": [
       "<matplotlib.colorbar.Colorbar at 0x7fd1ae544f60>"
      ]
     },
     "execution_count": 24,
     "metadata": {},
     "output_type": "execute_result"
    },
    {
     "data": {
      "image/png": "[encoded data removed]",
      "text/plain": [
       "<Figure size 432x288 with 2 Axes>"
      ]
     },
     "metadata": {
      "needs_background": "light"
     },
     "output_type": "display_data"
    }
   ],
   "source": [
    "LDAc_matrix=tddft.get_LDA_correlation_matrix()\n",
    "plt.imshow(LDAc_matrix[0].real)\n",
    "plt.colorbar()"
   ]
  },
  {
   "cell_type": "markdown",
   "metadata": {},
   "source": [
    "# TDDFT"
   ]
  },
  {
   "cell_type": "code",
   "execution_count": null,
   "metadata": {},
   "outputs": [
    {
     "name": "stderr",
     "output_type": "stream",
     "text": [
      " 38%|███▊      | 383/1000 [03:53<06:16,  1.64it/s]"
     ]
    }
   ],
   "source": [
    "steps=1000;dt=0.1\n",
    "E=np.zeros(steps);time=np.arange(steps)*dt\n",
    "E[0]=0.1\n",
    "result=tddft.propagate(dt=dt,steps=steps,E=E,operator=dipole)"
   ]
  },
  {
   "cell_type": "code",
   "execution_count": null,
   "metadata": {},
   "outputs": [],
   "source": [
    "for n in range(tddft.nbands):\n",
    "    plt.plot(time,result[:,n].real,label=str(n))\n",
    "plt.grid()\n",
    "plt.legend(loc='best')"
   ]
  },
  {
   "cell_type": "code",
   "execution_count": null,
   "metadata": {},
   "outputs": [],
   "source": [
    "from ase.units import Hartree, Bohr\n",
    "spectrum=np.fft.fft(tddft.macro_dipole)\n",
    "freq = np.fft.fftfreq(steps, d=dt)*Hartree\n",
    "spectrum=spectrum[np.argsort(freq)]\n",
    "freq=np.sort(freq)"
   ]
  },
  {
   "cell_type": "code",
   "execution_count": null,
   "metadata": {},
   "outputs": [],
   "source": [
    "plt.plot(freq,np.abs(spectrum),'-o')\n",
    "plt.xlim([0,10])\n",
    "plt.ylim([0,10])\n",
    "plt.grid()"
   ]
  },
  {
   "cell_type": "code",
   "execution_count": null,
   "metadata": {},
   "outputs": [],
   "source": []
  }
 ],
 "metadata": {
  "kernelspec": {
   "display_name": "Python 3",
   "language": "python",
   "name": "python3"
  },
  "language_info": {
   "codemirror_mode": {
    "name": "ipython",
    "version": 3
   },
   "file_extension": ".py",
   "mimetype": "text/x-python",
   "name": "python",
   "nbconvert_exporter": "python",
   "pygments_lexer": "ipython3",
   "version": "3.7.2"
  }
 },
 "nbformat": 4,
 "nbformat_minor": 2
}
